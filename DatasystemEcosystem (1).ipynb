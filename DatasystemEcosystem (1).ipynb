{
  "metadata": {
    "toc-autonumbering": false,
    "toc-showmarkdowntxt": true,
    "toc-showcode": false,
    "language_info": {
      "codemirror_mode": {
        "name": "python",
        "version": 3
      },
      "file_extension": ".py",
      "mimetype": "text/x-python",
      "name": "python",
      "nbconvert_exporter": "python",
      "pygments_lexer": "ipython3",
      "version": "3.8"
    },
    "kernelspec": {
      "name": "python",
      "display_name": "Python (Pyodide)",
      "language": "python"
    }
  },
  "nbformat_minor": 4,
  "nbformat": 4,
  "cells": [
    {
      "cell_type": "markdown",
      "source": "Data Science and Ecosystem",
      "metadata": {}
    },
    {
      "cell_type": "markdown",
      "source": "In this notebook, Data science Tool and Ecosystem is summarized as a collection of infractructure analysis and application used to capture and analyses data. It provide companies with reliable data to understand their customersand makes better pricing operations and marketing decisions",
      "metadata": {}
    },
    {
      "cell_type": "code",
      "source": "Some of the popular language that scientist use are:",
      "metadata": {},
      "execution_count": null,
      "outputs": []
    },
    {
      "cell_type": "code",
      "source": "1.Python 2.SQL 3.R 4.Scala 5.Java 6.Julia",
      "metadata": {},
      "execution_count": null,
      "outputs": []
    },
    {
      "cell_type": "code",
      "source": "Some of the commonly used libraries used by data scientists includes:\n    Orderlist\n1.Pandas 2.TensorFlow 3.NumPy 4.Scikit-learn 5.SciPy 6.Keras",
      "metadata": {},
      "execution_count": null,
      "outputs": []
    },
    {
      "cell_type": "markdown",
      "source": "Data Science Tools\nThree Development Environment Open Source Tools used in Data Sciences\n1.Jupyter notebook\n2.Spyder\n3.VSCode",
      "metadata": {}
    },
    {
      "cell_type": "markdown",
      "source": "Data Science Tools\nThree Development Environment Open Source Tools used in Data Sciences\n1.Jupyter notebook\n2.Spyder\n3.VSCode",
      "metadata": {}
    },
    {
      "cell_type": "markdown",
      "source": "Arithmetid expression ",
      "metadata": {}
    },
    {
      "cell_type": "code",
      "source": "Below are a few examples of evaluating arithmetric expression python\nExamples X+Y(X+Y)-Z\n\n",
      "metadata": {},
      "execution_count": null,
      "outputs": []
    },
    {
      "cell_type": "code",
      "source": "To Mulptiply and Add number\n  (3*4)+5\n    ",
      "metadata": {},
      "execution_count": null,
      "outputs": []
    },
    {
      "cell_type": "code",
      "source": "This simple arithmetic expression to multiply then add intergers\n  17",
      "metadata": {},
      "execution_count": null,
      "outputs": []
    },
    {
      "cell_type": "code",
      "source": "To convert minutes to hours 200minutes into minutes\n",
      "metadata": {},
      "execution_count": null,
      "outputs": []
    },
    {
      "cell_type": "code",
      "source": "This will convert 200minutes to hours by diving by 60",
      "metadata": {},
      "execution_count": null,
      "outputs": []
    },
    {
      "cell_type": "markdown",
      "source": "Objective\nUnordered list\nList popular language for Data Science\n1> Python\n2> MATLAB\n3> Julia\n4> Scala\n5> C++",
      "metadata": {}
    },
    {
      "cell_type": "markdown",
      "source": "Author Odumosu-Ariyibi Opeyemi",
      "metadata": {}
    }
  ]
}